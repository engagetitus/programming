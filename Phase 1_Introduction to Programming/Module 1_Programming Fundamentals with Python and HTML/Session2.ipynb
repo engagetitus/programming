{
  "nbformat": 4,
  "nbformat_minor": 0,
  "metadata": {
    "colab": {
      "provenance": []
    },
    "kernelspec": {
      "name": "python3",
      "display_name": "Python 3"
    },
    "language_info": {
      "name": "python"
    }
  },
  "cells": [
    {
      "cell_type": "markdown",
      "source": [
        "DATA STRUCTURES"
      ],
      "metadata": {
        "id": "YWzMCsRYoQd1"
      }
    },
    {
      "cell_type": "code",
      "execution_count": 36,
      "metadata": {
        "colab": {
          "base_uri": "https://localhost:8080/"
        },
        "id": "Tpiw0Xv6n8AH",
        "outputId": "914ec38f-29b5-40ef-e720-cd26120dcd0b"
      },
      "outputs": [
        {
          "output_type": "stream",
          "name": "stdout",
          "text": [
            "['apple', 'banana', 'cherry', 'pineapple', {'value', 'key'}]\n",
            "banana\n"
          ]
        }
      ],
      "source": [
        "#Lists\n",
        "# Creating Lists\n",
        "\n",
        "fruits = ['apple', 'banana', 'cherry','pineapple', {'key','value'}] # X number of Strings\n",
        " #           0        1         2        3            dictionary\n",
        "\n",
        "# Accessing and Modifying List Elements\n",
        "print(fruits)\n",
        "print(fruits[1])  # Access - Index (starts from 0#)\n",
        "fruits[1] = \"Orange\" # modify the List\n",
        "\n",
        "\n"
      ]
    },
    {
      "cell_type": "code",
      "source": [
        "## Data Structures\n",
        "## adding an Item to our List\n",
        "fruits.append('Mangos')\n",
        "print(fruits)"
      ],
      "metadata": {
        "colab": {
          "base_uri": "https://localhost:8080/"
        },
        "id": "7vNPYPGJqdno",
        "outputId": "653c5d1d-0fc5-4587-e21d-2bded757edfb"
      },
      "execution_count": 23,
      "outputs": [
        {
          "output_type": "stream",
          "name": "stdout",
          "text": [
            "['apple', 'Orange', 'cherry', 'pineapple', 'Mangos']\n"
          ]
        }
      ]
    },
    {
      "cell_type": "code",
      "source": [
        "fruits.remove('Mangos')\n",
        "print(fruits)"
      ],
      "metadata": {
        "colab": {
          "base_uri": "https://localhost:8080/"
        },
        "id": "xlef9QOzqEEd",
        "outputId": "49f6e5c0-5d52-4d95-e74a-7dea9c452280"
      },
      "execution_count": 24,
      "outputs": [
        {
          "output_type": "stream",
          "name": "stdout",
          "text": [
            "['apple', 'Orange', 'cherry', 'pineapple']\n"
          ]
        }
      ]
    },
    {
      "cell_type": "code",
      "source": [
        "\n"
      ],
      "metadata": {
        "colab": {
          "base_uri": "https://localhost:8080/"
        },
        "id": "L7hiB2xxq5uI",
        "outputId": "6f72dc5f-68c6-4d84-d7e1-7903b6598568"
      },
      "execution_count": 26,
      "outputs": [
        {
          "output_type": "execute_result",
          "data": {
            "text/plain": [
              "<function list.count(value, /)>"
            ]
          },
          "metadata": {},
          "execution_count": 26
        }
      ]
    },
    {
      "cell_type": "markdown",
      "source": [
        "Tuples\n"
      ],
      "metadata": {
        "id": "ogANvspfr01x"
      }
    },
    {
      "cell_type": "code",
      "source": [
        "### Creating Tuples\n",
        "\n",
        "colors = ('red', 'green', 'blue', [])\n",
        "\n",
        "### Accessing Tuple Elements\n",
        "\n",
        "print(colors[3])"
      ],
      "metadata": {
        "colab": {
          "base_uri": "https://localhost:8080/"
        },
        "id": "yXT95lxUr2nf",
        "outputId": "e2dcf1c3-7de4-4a4b-80a3-87fb00a81c88"
      },
      "execution_count": 38,
      "outputs": [
        {
          "output_type": "stream",
          "name": "stdout",
          "text": [
            "[]\n"
          ]
        }
      ]
    },
    {
      "cell_type": "markdown",
      "source": [
        "Dictionaries\n",
        "key : value\n",
        "{} -"
      ],
      "metadata": {
        "id": "EN30bC6DsMVP"
      }
    },
    {
      "cell_type": "code",
      "source": [
        "profile = {\n",
        "    'Key': 'value',\n",
        "    'name' : \"Charles\",\n",
        "    'phone' : '07899999', # string\n",
        "    'country_code' : 254, # number\n",
        "    'account' : ['safaricom', 'equity'] # List\n",
        "\n",
        "} # EmpytyDictionaries\n",
        "#country : definition\n",
        "print(profile)"
      ],
      "metadata": {
        "colab": {
          "base_uri": "https://localhost:8080/"
        },
        "id": "zD6NHmCIsToe",
        "outputId": "f257c5a0-194b-4332-cf32-5cf65ab7b83a"
      },
      "execution_count": 35,
      "outputs": [
        {
          "output_type": "stream",
          "name": "stdout",
          "text": [
            "{'Key': 'value', 'name': 'Charles', 'phone': '07899999', 'country_code': 254, 'account': ['safaricom', 'equity']}\n"
          ]
        }
      ]
    },
    {
      "cell_type": "code",
      "source": [
        "# Access Values In a Dictionary\n",
        "print(profile['account'])  ## access the phone numver\n",
        "profile['phone'] = \"07635363376\" # modify a value\n",
        "print(profile)"
      ],
      "metadata": {
        "colab": {
          "base_uri": "https://localhost:8080/"
        },
        "id": "9zJBDaaPszZK",
        "outputId": "5347e5ab-418c-447e-9189-a8db48cdce09"
      },
      "execution_count": 43,
      "outputs": [
        {
          "output_type": "stream",
          "name": "stdout",
          "text": [
            "['safaricom', 'equity']\n",
            "{'Key': 'value', 'name': 'Charles', 'phone': '07635363376', 'country_code': 254, 'account': ['safaricom', 'equity']}\n"
          ]
        }
      ]
    },
    {
      "cell_type": "code",
      "source": [
        "## Methods\n",
        "profile.items()"
      ],
      "metadata": {
        "colab": {
          "base_uri": "https://localhost:8080/"
        },
        "id": "wOT60hZntk0u",
        "outputId": "116152c5-a89d-4c5b-a9e9-dbad5438d574"
      },
      "execution_count": 46,
      "outputs": [
        {
          "output_type": "execute_result",
          "data": {
            "text/plain": [
              "dict_items([('Key', 'value'), ('name', 'Charles'), ('phone', '07635363376'), ('country_code', 254), ('account', ['safaricom', 'equity'])])"
            ]
          },
          "metadata": {},
          "execution_count": 46
        }
      ]
    },
    {
      "cell_type": "markdown",
      "source": [
        "List - []\n",
        "Tuple - ()\n",
        "Dictionary - {}\n"
      ],
      "metadata": {
        "id": "WzGlqer_uxf_"
      }
    }
  ]
}