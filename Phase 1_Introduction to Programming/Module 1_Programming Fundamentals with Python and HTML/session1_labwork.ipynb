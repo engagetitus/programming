{
  "nbformat": 4,
  "nbformat_minor": 0,
  "metadata": {
    "colab": {
      "provenance": []
    },
    "kernelspec": {
      "name": "python3",
      "display_name": "Python 3"
    },
    "language_info": {
      "name": "python"
    }
  },
  "cells": [
    {
      "cell_type": "code",
      "execution_count": null,
      "metadata": {
        "colab": {
          "base_uri": "https://localhost:8080/"
        },
        "id": "fO23IylNNbtV",
        "outputId": "8b53f4ab-8f56-4c26-9ce5-d2b180f943b9"
      },
      "outputs": [
        {
          "output_type": "stream",
          "name": "stdout",
          "text": [
            "Lesson 1\n",
            "Kenya\n",
            "name\n"
          ]
        }
      ],
      "source": [
        "print('Lesson 1');\n",
        "#python - comments\n",
        "name = 'Kenya' #variable - storage point\n",
        "print(name) # what was saved in name\n",
        "print('name') # name"
      ]
    },
    {
      "cell_type": "code",
      "source": [
        "nu_mber = '12344';"
      ],
      "metadata": {
        "id": "pcZ3dv-oQZ09"
      },
      "execution_count": null,
      "outputs": []
    },
    {
      "cell_type": "code",
      "source": [
        "# Conditional Statements\n",
        "credit_limit = 10000\n",
        "application = 2000\n",
        "## Logical Operators\n",
        "# == - equal To\n",
        "# != - note Equal\n",
        "# < less than\n",
        "# <= less than or equal to\n",
        "if application <=  credit_limit : # != not equal To\n",
        "  print(\"Loan Them\")\n",
        "else :\n",
        "  print('Deny Request')"
      ],
      "metadata": {
        "colab": {
          "base_uri": "https://localhost:8080/"
        },
        "id": "mrCl1T-zZvpH",
        "outputId": "1549bed9-fb92-4b2c-c9c9-62a121ae3e6a"
      },
      "execution_count": null,
      "outputs": [
        {
          "output_type": "stream",
          "name": "stdout",
          "text": [
            "Loan Them\n"
          ]
        }
      ]
    },
    {
      "cell_type": "code",
      "source": [
        "# Mpesa Transactions\n",
        "balance = 500\n",
        "transact = 1000\n",
        "fuliza = 1000\n",
        "\n",
        "if transact < balance : # whether balance is sufficient\n",
        "  print(\"Transaction Complete\")\n",
        "  print(transact < balance)\n",
        "elif fuliza+balance > transact : # checks if limit exceeded\n",
        "  print(\"Fuliza \")\n",
        "  print(fuliza+balance > transact)\n",
        "else:\n",
        "  print(\"Insufficient Balance\")"
      ],
      "metadata": {
        "colab": {
          "base_uri": "https://localhost:8080/"
        },
        "id": "50d4YHP9aALt",
        "outputId": "8a5d3ca4-deaf-4170-ac2e-8c0bf17999c6"
      },
      "execution_count": null,
      "outputs": [
        {
          "output_type": "stream",
          "name": "stdout",
          "text": [
            "Fuliza \n",
            "True\n"
          ]
        }
      ]
    },
    {
      "cell_type": "code",
      "source": [
        "#Looping - while, for\n",
        "#for.\n",
        "months = [\"July\", \"aug\", 30, 189.9]\n",
        "months\n",
        "\n",
        "for i in months:\n",
        "  print(i)\n",
        "\n"
      ],
      "metadata": {
        "colab": {
          "base_uri": "https://localhost:8080/"
        },
        "id": "fd9bQVwMcQ0q",
        "outputId": "16457762-1fa4-4c75-8900-c9cf2c58f58b"
      },
      "execution_count": null,
      "outputs": [
        {
          "output_type": "stream",
          "name": "stdout",
          "text": [
            "July\n",
            "aug\n",
            "30\n",
            "189.9\n"
          ]
        }
      ]
    },
    {
      "cell_type": "code",
      "source": [
        "transactions = [10000,4000,6000]\n",
        "total = 0; # starting\n",
        "for t in transactions:\n",
        "  total = total+t\n",
        "  print(t)\n",
        "\n",
        "print(total)\n",
        "customer = \" John\"\n",
        "\n",
        "# Concatenation - join variable\n",
        "print(\"Hello \"+ customer + f\" Your Total Is {total}\")"
      ],
      "metadata": {
        "colab": {
          "base_uri": "https://localhost:8080/"
        },
        "id": "J1-FrZIFerka",
        "outputId": "7afdcfc1-6a7a-497b-a821-615c9f3f142c"
      },
      "execution_count": null,
      "outputs": [
        {
          "output_type": "stream",
          "name": "stdout",
          "text": [
            "10000\n",
            "4000\n",
            "6000\n",
            "20000\n",
            "Hello  John Your Total Is 20000\n"
          ]
        }
      ]
    },
    {
      "cell_type": "code",
      "source": [],
      "metadata": {
        "id": "fEhej5vDeMEL"
      },
      "execution_count": null,
      "outputs": []
    }
  ]
}