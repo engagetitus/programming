{
  "cells": [
    {
      "cell_type": "code",
      "execution_count": null,
      "metadata": {
        "colab": {
          "base_uri": "https://localhost:8080/"
        },
        "id": "fO23IylNNbtV",
        "outputId": "8b53f4ab-8f56-4c26-9ce5-d2b180f943b9"
      },
      "outputs": [
        {
          "name": "stdout",
          "output_type": "stream",
          "text": [
            "Lesson 1\n",
            "Kenya\n",
            "name\n"
          ]
        }
      ],
      "source": [
        "print('Lesson 1');\n",
        "#python - comments\n",
        "name = 'Kenya' #variable - storage point\n",
        "print(name) # what was saved in name\n",
        "print('name') # name"
      ]
    },
    {
      "cell_type": "code",
      "execution_count": null,
      "metadata": {
        "id": "pcZ3dv-oQZ09"
      },
      "outputs": [],
      "source": [
        "nu_mber = '12344';"
      ]
    },
    {
      "cell_type": "code",
      "execution_count": null,
      "metadata": {
        "colab": {
          "base_uri": "https://localhost:8080/"
        },
        "id": "mrCl1T-zZvpH",
        "outputId": "1549bed9-fb92-4b2c-c9c9-62a121ae3e6a"
      },
      "outputs": [
        {
          "name": "stdout",
          "output_type": "stream",
          "text": [
            "Loan Them\n"
          ]
        }
      ],
      "source": [
        "# Conditional Statements\n",
        "credit_limit = 10000\n",
        "application = 2000\n",
        "## Logical Operators\n",
        "# == - equal To\n",
        "# != - note Equal\n",
        "# < less than\n",
        "# <= less than or equal to\n",
        "if application <=  credit_limit : # != not equal To\n",
        "  print(\"Loan Them\")\n",
        "else :\n",
        "  print('Deny Request')"
      ]
    },
    {
      "cell_type": "code",
      "execution_count": null,
      "metadata": {
        "colab": {
          "base_uri": "https://localhost:8080/"
        },
        "id": "50d4YHP9aALt",
        "outputId": "8a5d3ca4-deaf-4170-ac2e-8c0bf17999c6"
      },
      "outputs": [
        {
          "name": "stdout",
          "output_type": "stream",
          "text": [
            "Fuliza \n",
            "True\n"
          ]
        }
      ],
      "source": [
        "# Mpesa Transactions\n",
        "balance = 500\n",
        "transact = 1000\n",
        "fuliza = 1000\n",
        "\n",
        "if transact < balance : # whether balance is sufficient\n",
        "  print(\"Transaction Complete\")\n",
        "  print(transact < balance)\n",
        "elif fuliza+balance > transact : # checks if limit exceeded\n",
        "  print(\"Fuliza \")\n",
        "  print(fuliza+balance > transact)\n",
        "else:\n",
        "  print(\"Insufficient Balance\")"
      ]
    },
    {
      "cell_type": "code",
      "execution_count": null,
      "metadata": {
        "colab": {
          "base_uri": "https://localhost:8080/"
        },
        "id": "fd9bQVwMcQ0q",
        "outputId": "16457762-1fa4-4c75-8900-c9cf2c58f58b"
      },
      "outputs": [
        {
          "name": "stdout",
          "output_type": "stream",
          "text": [
            "July\n",
            "aug\n",
            "30\n",
            "189.9\n"
          ]
        }
      ],
      "source": [
        "#Looping - while, for\n",
        "#for.\n",
        "months = [\"July\", \"aug\", 30, 189.9]\n",
        "months\n",
        "\n",
        "for i in months:\n",
        "  print(i)\n",
        "\n"
      ]
    },
    {
      "cell_type": "code",
      "execution_count": null,
      "metadata": {
        "colab": {
          "base_uri": "https://localhost:8080/"
        },
        "id": "J1-FrZIFerka",
        "outputId": "7afdcfc1-6a7a-497b-a821-615c9f3f142c"
      },
      "outputs": [
        {
          "name": "stdout",
          "output_type": "stream",
          "text": [
            "10000\n",
            "4000\n",
            "6000\n",
            "20000\n",
            "Hello  John Your Total Is 20000\n"
          ]
        }
      ],
      "source": [
        "transactions = [10000,4000,6000]\n",
        "total = 0; # starting\n",
        "for t in transactions:\n",
        "  total = total+t\n",
        "  print(t)\n",
        "\n",
        "print(total)\n",
        "customer = \" John\"\n",
        "\n",
        "# Concatenation - join variable\n",
        "print(\"Hello \"+ customer + f\" Your Total Is {total}\")"
      ]
    },
    {
      "cell_type": "code",
      "execution_count": null,
      "metadata": {
        "id": "fEhej5vDeMEL"
      },
      "outputs": [],
      "source": [
        "SG36EPHSPM Confirmed. Ksh20.00 sent to RUTH  WAFULA 0713881286 on 3/7/24 at 8:58 AM. New M-PESA balance is Ksh1,502.53. Transaction cost, Ksh0.00. Amount you can transact within the day is 499,965.00. Send Kes200 or more on MPESA for a chance to win 1M WEEKLY with Shine Kenya Mamili!"
      ]
    }
  ],
  "metadata": {
    "colab": {
      "provenance": []
    },
    "kernelspec": {
      "display_name": "Python 3",
      "name": "python3"
    },
    "language_info": {
      "name": "python"
    }
  },
  "nbformat": 4,
  "nbformat_minor": 0
}
